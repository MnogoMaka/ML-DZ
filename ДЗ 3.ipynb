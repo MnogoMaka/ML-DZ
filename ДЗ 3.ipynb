{
  "nbformat": 4,
  "nbformat_minor": 0,
  "metadata": {
    "colab": {
      "provenance": []
    },
    "kernelspec": {
      "name": "python3",
      "display_name": "Python 3"
    },
    "language_info": {
      "name": "python"
    }
  },
  "cells": [
    {
      "cell_type": "code",
      "execution_count": null,
      "metadata": {
        "id": "MXXTuy_o0sjk",
        "colab": {
          "base_uri": "https://localhost:8080/"
        },
        "outputId": "e84c10c1-71f7-4a74-bea2-f0e359a505e3"
      },
      "outputs": [
        {
          "output_type": "stream",
          "name": "stdout",
          "text": [
            "\u001b[?25l   \u001b[90m━━━━━━━━━━━━━━━━━━━━━━━━━━━━━━━━━━━━━━━━\u001b[0m \u001b[32m0.0/1.4 MB\u001b[0m \u001b[31m?\u001b[0m eta \u001b[36m-:--:--\u001b[0m\r\u001b[2K   \u001b[91m━━━━━━━━━━\u001b[0m\u001b[91m╸\u001b[0m\u001b[90m━━━━━━━━━━━━━━━━━━━━━━━━━━━━━\u001b[0m \u001b[32m0.4/1.4 MB\u001b[0m \u001b[31m10.8 MB/s\u001b[0m eta \u001b[36m0:00:01\u001b[0m\r\u001b[2K   \u001b[91m━━━━━━━━━━━━━━━━━━━━━━━━━━━━━━━━━━━━━━━\u001b[0m\u001b[91m╸\u001b[0m \u001b[32m1.4/1.4 MB\u001b[0m \u001b[31m23.8 MB/s\u001b[0m eta \u001b[36m0:00:01\u001b[0m\r\u001b[2K   \u001b[90m━━━━━━━━━━━━━━━━━━━━━━━━━━━━━━━━━━━━━━━━\u001b[0m \u001b[32m1.4/1.4 MB\u001b[0m \u001b[31m18.0 MB/s\u001b[0m eta \u001b[36m0:00:00\u001b[0m\n",
            "\u001b[2K   \u001b[90m━━━━━━━━━━━━━━━━━━━━━━━━━━━━━━━━━━━━━━━━\u001b[0m \u001b[32m953.8/953.8 kB\u001b[0m \u001b[31m44.9 MB/s\u001b[0m eta \u001b[36m0:00:00\u001b[0m\n",
            "\u001b[2K   \u001b[90m━━━━━━━━━━━━━━━━━━━━━━━━━━━━━━━━━━━━━━━━\u001b[0m \u001b[32m840.2/840.2 kB\u001b[0m \u001b[31m42.1 MB/s\u001b[0m eta \u001b[36m0:00:00\u001b[0m\n",
            "\u001b[2K   \u001b[90m━━━━━━━━━━━━━━━━━━━━━━━━━━━━━━━━━━━━━━━━\u001b[0m \u001b[32m178.7/178.7 kB\u001b[0m \u001b[31m12.3 MB/s\u001b[0m eta \u001b[36m0:00:00\u001b[0m\n",
            "\u001b[?25h"
          ]
        }
      ],
      "source": [
        "!pip install -q -U kaggle_environments"
      ]
    },
    {
      "cell_type": "code",
      "source": [
        "import numpy as np\n",
        "import pandas as pd\n",
        "import random\n",
        "\n",
        "import matplotlib.pyplot as plt\n",
        "import seaborn as sns\n",
        "import math\n",
        "\n",
        "\n",
        "\n",
        "from kaggle_environments import make, evaluate"
      ],
      "metadata": {
        "id": "yz23vWHD0wcj",
        "colab": {
          "base_uri": "https://localhost:8080/"
        },
        "outputId": "becd2ad7-f511-425f-bc55-470179ee6ddd"
      },
      "execution_count": 9,
      "outputs": [
        {
          "output_type": "stream",
          "name": "stderr",
          "text": [
            "/usr/local/lib/python3.10/dist-packages/pygame/pkgdata.py:25: DeprecationWarning: pkg_resources is deprecated as an API. See https://setuptools.pypa.io/en/latest/pkg_resources.html\n",
            "  from pkg_resources import resource_stream, resource_exists\n",
            "/usr/local/lib/python3.10/dist-packages/pkg_resources/__init__.py:3154: DeprecationWarning: Deprecated call to `pkg_resources.declare_namespace('google')`.\n",
            "Implementing implicit namespace packages (as specified in PEP 420) is preferred to `pkg_resources.declare_namespace`. See https://setuptools.pypa.io/en/latest/references/keywords.html#keyword-namespace-packages\n",
            "  declare_namespace(pkg)\n",
            "/usr/local/lib/python3.10/dist-packages/pkg_resources/__init__.py:3154: DeprecationWarning: Deprecated call to `pkg_resources.declare_namespace('google.cloud')`.\n",
            "Implementing implicit namespace packages (as specified in PEP 420) is preferred to `pkg_resources.declare_namespace`. See https://setuptools.pypa.io/en/latest/references/keywords.html#keyword-namespace-packages\n",
            "  declare_namespace(pkg)\n",
            "/usr/local/lib/python3.10/dist-packages/pkg_resources/__init__.py:3154: DeprecationWarning: Deprecated call to `pkg_resources.declare_namespace('sphinxcontrib')`.\n",
            "Implementing implicit namespace packages (as specified in PEP 420) is preferred to `pkg_resources.declare_namespace`. See https://setuptools.pypa.io/en/latest/references/keywords.html#keyword-namespace-packages\n",
            "  declare_namespace(pkg)\n"
          ]
        }
      ]
    },
    {
      "cell_type": "markdown",
      "source": [
        "Определение функции из библиотеки"
      ],
      "metadata": {
        "id": "pkRZEXnKvGWv"
      }
    },
    {
      "cell_type": "code",
      "source": [
        "def get_score(left_move, right_move):\n",
        "    # This method exists in this file so it can be consumed from rps.py and agents.py without a circular dependency\n",
        "    delta = (\n",
        "        right_move - left_move\n",
        "        if (left_move + right_move) % 2 == 0\n",
        "        else left_move - right_move\n",
        "    )\n",
        "    return 0 if delta == 0 else math.copysign(1, delta)"
      ],
      "metadata": {
        "id": "4u-OiZv0vFtj"
      },
      "execution_count": 4,
      "outputs": []
    },
    {
      "cell_type": "markdown",
      "source": [
        "Агент 1: всегда играющего \"камень\" - это значение 0"
      ],
      "metadata": {
        "id": "0kuo6IOxiRub"
      }
    },
    {
      "cell_type": "code",
      "source": [
        "\n",
        "#Example of the simple agent\n",
        "#0 - rock\n",
        "#1 - paper\n",
        "#2 - scissors\n",
        "def rock_agent(observation, configuration):\n",
        "    return 0"
      ],
      "metadata": {
        "id": "bqTqV7B92rJ6",
        "colab": {
          "base_uri": "https://localhost:8080/"
        },
        "outputId": "0041b152-6e19-4551-f673-897fe6390fa6"
      },
      "execution_count": 22,
      "outputs": [
        {
          "output_type": "stream",
          "name": "stderr",
          "text": [
            "/usr/local/lib/python3.10/dist-packages/ipykernel/ipkernel.py:283: DeprecationWarning: `should_run_async` will not call `transform_cell` automatically in the future. Please pass the result to `transformed_cell` argument and any exception that happen during thetransform in `preprocessing_exc_tuple` in IPython 7.17 and above.\n",
            "  and should_run_async(code)\n"
          ]
        }
      ]
    },
    {
      "cell_type": "markdown",
      "source": [
        "Агент 2: всегда играющего \"бумагу\" - это значение 1"
      ],
      "metadata": {
        "id": "et1J5hUGigeh"
      }
    },
    {
      "cell_type": "code",
      "source": [
        "\n",
        "#Example of the simple agent\n",
        "#0 - rock\n",
        "#1 - paper\n",
        "#2 - scissors\n",
        "def paper_agent(observation, configuration):\n",
        "    return 1"
      ],
      "metadata": {
        "id": "PrwhvLcdzHo2"
      },
      "execution_count": 40,
      "outputs": []
    },
    {
      "cell_type": "markdown",
      "source": [
        "Агент 3: всегда играющего \"ножницы\" - это значение 2\n"
      ],
      "metadata": {
        "id": "qyYcx-1pzP3U"
      }
    },
    {
      "cell_type": "code",
      "source": [
        "\n",
        "#0 - rock\n",
        "#1 - paper\n",
        "#2 - scissors\n",
        "def scissors_agent(observation, configuration):\n",
        "    return 2"
      ],
      "metadata": {
        "id": "kXSpWWqIzXDZ"
      },
      "execution_count": 7,
      "outputs": []
    },
    {
      "cell_type": "markdown",
      "source": [
        "Агент 4: играющего предыдущий розыгрыш аппонента, в случае 1 итерации играющий рандомный"
      ],
      "metadata": {
        "id": "yxOEpjG6zjXZ"
      }
    },
    {
      "cell_type": "code",
      "source": [
        "def copy_opponent(observation, configuration):\n",
        "    #in case we have information about opponent last move\n",
        "    if observation.step > 0:\n",
        "        return observation.lastOpponentAction\n",
        "    #initial step\n",
        "    else:\n",
        "        return random.randrange(0, configuration.signs)"
      ],
      "metadata": {
        "id": "7l6Ttw6qi0jk"
      },
      "execution_count": 8,
      "outputs": []
    },
    {
      "cell_type": "markdown",
      "source": [
        "Агент 5: Случайно определяет стратегию, играет до 1 пройгрыша, после чего переопределяет его снова на случайный"
      ],
      "metadata": {
        "id": "Q5LBs1E4zxGK"
      }
    },
    {
      "cell_type": "code",
      "source": [
        "def counter_reactionary(observation, configuration):\n",
        "    global last_counter_action\n",
        "    if observation.step == 0:\n",
        "        last_counter_action = random.randrange(0, configuration.signs)\n",
        "    elif get_score(last_counter_action, observation.lastOpponentAction) != 1:\n",
        "        last_counter_action = (observation.lastOpponentAction + 1) % configuration.signs\n",
        "\n",
        "    return last_counter_action"
      ],
      "metadata": {
        "id": "JZ6U7NHyuw07",
        "colab": {
          "base_uri": "https://localhost:8080/"
        },
        "outputId": "4082b484-24bb-40aa-f50b-5bfd411d57e4"
      },
      "execution_count": 48,
      "outputs": [
        {
          "output_type": "stream",
          "name": "stderr",
          "text": [
            "/usr/local/lib/python3.10/dist-packages/ipykernel/ipkernel.py:283: DeprecationWarning: `should_run_async` will not call `transform_cell` automatically in the future. Please pass the result to `transformed_cell` argument and any exception that happen during thetransform in `preprocessing_exc_tuple` in IPython 7.17 and above.\n",
            "  and should_run_async(code)\n"
          ]
        }
      ]
    },
    {
      "cell_type": "markdown",
      "source": [
        "Агент 6: Играет только камень или бумагу, выбирается случайным образом"
      ],
      "metadata": {
        "id": "FlhefrGh0O6O"
      }
    },
    {
      "cell_type": "code",
      "source": [
        "def rand_r_p_agent(observation, configuration):\n",
        "    # случайный выбор оружия)\n",
        "    return random.choice([0, 1])"
      ],
      "metadata": {
        "id": "4MzU8X1dAnm6"
      },
      "execution_count": 86,
      "outputs": []
    },
    {
      "cell_type": "markdown",
      "source": [
        "Агент 7: Играет только бумагу или нужницы, выбирается случайным образом"
      ],
      "metadata": {
        "id": "YngFk_xJ0ag6"
      }
    },
    {
      "cell_type": "code",
      "source": [
        "def rand_p_s_agent(observation, configuration):\n",
        "    # случайный выбор оружия)\n",
        "    return random.choice([2, 1])"
      ],
      "metadata": {
        "id": "hK-IzQEQJK-R"
      },
      "execution_count": 81,
      "outputs": []
    },
    {
      "cell_type": "markdown",
      "source": [
        "Агент 8: Играет только камень или ножницы, выбирается случайным образом"
      ],
      "metadata": {
        "id": "lduX9Yqp0gdp"
      }
    },
    {
      "cell_type": "code",
      "source": [
        "def rand_r_s_agent(observation, configuration):\n",
        "    # случайный выбор оружия)\n",
        "    return random.choice([0, 2])"
      ],
      "metadata": {
        "id": "WyVgnS7nJ3Dq"
      },
      "execution_count": 82,
      "outputs": []
    },
    {
      "cell_type": "markdown",
      "source": [
        "Агент 9: Играет только камень или бумагу. Начинает с камня и играет им, пока не проиграет, после проигрыша меняет на бумагу и потом снова на камень"
      ],
      "metadata": {
        "id": "4_ZOdH6F0x8C"
      }
    },
    {
      "cell_type": "code",
      "source": [
        "def swich_rp(observation, configuration):\n",
        "    global last_counter_action\n",
        "    if observation.step == 0:\n",
        "        last_counter_action = 0\n",
        "        # определяем факт победы\n",
        "    elif get_score(last_counter_action, observation.lastOpponentAction) != 1:\n",
        "      if last_counter_action == 0:\n",
        "        last_counter_action = 1\n",
        "      else:\n",
        "        last_counter_action = 0\n",
        "\n",
        "    return last_counter_action"
      ],
      "metadata": {
        "id": "n8u6M455Khkw"
      },
      "execution_count": 95,
      "outputs": []
    },
    {
      "cell_type": "markdown",
      "source": [
        "Агент 10: Играет только бумагу или ножницы. Начинает с бумаги и играет ею, пока не проиграет, после проигрыша меняет на ножницы и потом снова на камень"
      ],
      "metadata": {
        "id": "POFMg3Bp1IQO"
      }
    },
    {
      "cell_type": "code",
      "source": [
        "def swich_ps(observation, configuration):\n",
        "    global last_counter_action2\n",
        "    if observation.step == 0:\n",
        "        last_counter_action2 = 2\n",
        "        # определяем факт победы\n",
        "    elif get_score(last_counter_action2, observation.lastOpponentAction) != 1:\n",
        "      if last_counter_action2 == 2:\n",
        "        last_counter_action2 = 1\n",
        "      else:\n",
        "        last_counter_action2 = 2\n",
        "\n",
        "    return last_counter_action2"
      ],
      "metadata": {
        "id": "7XrbVNAXKiAL"
      },
      "execution_count": 94,
      "outputs": []
    },
    {
      "cell_type": "markdown",
      "source": [
        "Агент 11: Играет только камень или ножницы. Начинает с камня и играет им, пока не проиграет, после проигрыша меняет на ножницы и потом снова на камень"
      ],
      "metadata": {
        "id": "-xBcdu011Q-P"
      }
    },
    {
      "cell_type": "code",
      "source": [
        "def swich_rs(observation, configuration):\n",
        "    global last_counter_action3 # запоминаем действие\n",
        "    if observation.step == 0:\n",
        "        last_counter_action3 = 0\n",
        "        # определяем факт победы\n",
        "    elif get_score(last_counter_action3, observation.lastOpponentAction) != 1:\n",
        "      if last_counter_action3 == 0:\n",
        "        last_counter_action3 = 2\n",
        "      else:\n",
        "        last_counter_action3 = 0\n",
        "\n",
        "    return last_counter_action3\n",
        ""
      ],
      "metadata": {
        "id": "TpIx4Kt07wpk",
        "colab": {
          "base_uri": "https://localhost:8080/"
        },
        "outputId": "240e3070-8939-4732-895f-af602a84903f"
      },
      "execution_count": 93,
      "outputs": [
        {
          "output_type": "stream",
          "name": "stderr",
          "text": [
            "/usr/local/lib/python3.10/dist-packages/ipykernel/ipkernel.py:283: DeprecationWarning: `should_run_async` will not call `transform_cell` automatically in the future. Please pass the result to `transformed_cell` argument and any exception that happen during thetransform in `preprocessing_exc_tuple` in IPython 7.17 and above.\n",
            "  and should_run_async(code)\n"
          ]
        }
      ]
    },
    {
      "cell_type": "markdown",
      "source": [
        "Агент 12: Случайно выбирает камень, ножницы или бумагу"
      ],
      "metadata": {
        "id": "bgEdEdtX1pkA"
      }
    },
    {
      "cell_type": "code",
      "source": [
        "def rand_agent(observation, configuration):\n",
        "    # случайный выбор оружия)\n",
        "    return random.randrange(0, 2)"
      ],
      "metadata": {
        "id": "NaLJSEci67Va"
      },
      "execution_count": 55,
      "outputs": []
    },
    {
      "cell_type": "markdown",
      "source": [
        "Агент 13: Случайно выбирает камень, ножницы или бумагу"
      ],
      "metadata": {
        "id": "9n05lew14pbJ"
      }
    },
    {
      "cell_type": "code",
      "source": [
        "def win_agent(observation, configuration):\n",
        "    # Определяем действия\n",
        "    actions = [0, 1, 2]\n",
        "\n",
        "    # Если это первый шаг, выбираем случайное действие\n",
        "    if observation.step == 0:\n",
        "        return random.choice(actions)\n",
        "\n",
        "    # Получаем последнее действие противника\n",
        "    last_opponent_action = observation.lastOpponentAction\n",
        "\n",
        "    # Логика победы: выбираем действие, которое выигрывает против последнего действия противника\n",
        "    if last_opponent_action == 0:  # Противник выбрал камень\n",
        "        return 1  # Мы выбираем ножницы\n",
        "    elif last_opponent_action == 1:  # Противник выбрал ножницы\n",
        "        return 2  # Мы выбираем бумагу\n",
        "    else:  # Противник выбрал бумагу\n",
        "        return 0  # Мы выбираем камень"
      ],
      "metadata": {
        "id": "HLqGX2pTzxPg"
      },
      "execution_count": 56,
      "outputs": []
    },
    {
      "cell_type": "markdown",
      "source": [
        "Код проверки и вывода победителя"
      ],
      "metadata": {
        "id": "2JJ6CMz_NzNR"
      }
    },
    {
      "cell_type": "code",
      "source": [
        "import random\n",
        "\n",
        "all_agents = [\n",
        "    rock_agent, paper_agent, scissors_agent, copy_opponent,\n",
        "    counter_reactionary, rand_r_p_agent, rand_p_s_agent,\n",
        "    rand_r_s_agent, swich_rp, swich_ps, swich_rs,\n",
        "    rand_agent, win_agent\n",
        "]\n",
        "\n",
        "best = all_agents[0]\n",
        "for i in all_agents[1:]:\n",
        "    print(f\"Evaluating: {best.__name__} vs {i.__name__}\")\n",
        "    a = evaluate(\n",
        "        \"rps\",  # среда для использования - не нужно менять\n",
        "        [best, i],  # агенты для оценки\n",
        "        configuration={\"episodeSteps\": 100}  # количество эпизодов\n",
        "    )\n",
        "\n",
        "    print(f\"Scores: {list(a)}\")\n",
        "\n",
        "    score_best = a[0][0]\n",
        "    score_i = a[0][1]\n",
        "\n",
        "    # Проверка, являются ли оценки действительными и сравнение\n",
        "    if score_best is None or (score_i is not None and score_i > score_best):\n",
        "        best = i\n",
        "    elif score_i is None or (score_i is not None and score_i < score_best):\n",
        "        best = i\n",
        "    else:\n",
        "        best = random.choice([best, i])\n",
        "\n",
        "print(f\"Лучший агент: {best.__name__}\")\n"
      ],
      "metadata": {
        "colab": {
          "base_uri": "https://localhost:8080/"
        },
        "id": "-bc2DbcFOL1l",
        "outputId": "cd1218d5-e447-4b48-cf07-d433ae522c9e"
      },
      "execution_count": 100,
      "outputs": [
        {
          "output_type": "stream",
          "name": "stdout",
          "text": [
            "Evaluating: rock_agent vs paper_agent\n",
            "Scores: [[-99.0, 99.0]]\n",
            "Evaluating: paper_agent vs scissors_agent\n",
            "Scores: [[-99.0, 99.0]]\n",
            "Evaluating: scissors_agent vs copy_opponent\n",
            "Scores: [[0, 0]]\n",
            "Evaluating: copy_opponent vs counter_reactionary\n",
            "Scores: [[-49.0, 49.0]]\n",
            "Evaluating: counter_reactionary vs rand_r_p_agent\n",
            "Scores: [[22.0, -22.0]]\n",
            "Evaluating: rand_r_p_agent vs rand_p_s_agent\n",
            "Scores: [[-33.0, 33.0]]\n",
            "Evaluating: rand_p_s_agent vs rand_r_s_agent\n",
            "Scores: [[-32.0, 32.0]]\n",
            "Evaluating: rand_r_s_agent vs swich_rp\n",
            "Scores: [[-26.0, 26.0]]\n",
            "Evaluating: swich_rp vs swich_ps\n",
            "Scores: [[0, 0]]\n",
            "Evaluating: swich_rp vs swich_rs\n",
            "Scores: [[0, 0]]\n",
            "Evaluating: swich_rs vs rand_agent\n",
            "Scores: [[-24.0, 24.0]]\n",
            "Evaluating: rand_agent vs win_agent\n",
            "Scores: [[-23.0, 23.0]]\n",
            "Лучший агент: win_agent\n"
          ]
        }
      ]
    },
    {
      "cell_type": "markdown",
      "source": [
        "**Воспользуемся** функцией evaluate из библиотеки kaggle_environments с помощью которой запустим наших агентов и проведем эксперимент на заданном количестве игр"
      ],
      "metadata": {
        "id": "ExgIpXUVjbjN"
      }
    },
    {
      "cell_type": "code",
      "source": [
        "evaluate(\n",
        "    \"rps\", #environment to use - no need to change\n",
        "    [counter_reactionary, rock_agent], #agents to evaluate\n",
        "    configuration={\"episodeSteps\": 100} #number of episodes\n",
        ")"
      ],
      "metadata": {
        "id": "wv6Ip6M004xa",
        "colab": {
          "base_uri": "https://localhost:8080/"
        },
        "outputId": "8ade64ff-ec5b-43b6-c4c9-63fb8a8f28b0"
      },
      "execution_count": 72,
      "outputs": [
        {
          "output_type": "execute_result",
          "data": {
            "text/plain": [
              "[[98.0, -98.0]]"
            ]
          },
          "metadata": {},
          "execution_count": 72
        }
      ]
    },
    {
      "cell_type": "code",
      "source": [],
      "metadata": {
        "colab": {
          "base_uri": "https://localhost:8080/"
        },
        "id": "f_LcIfv9iW17",
        "outputId": "2575c24b-3b85-47b3-bb92-0ab0aecb0952"
      },
      "execution_count": 101,
      "outputs": [
        {
          "output_type": "stream",
          "name": "stdout",
          "text": [
            "git: '–help' is not a git command. See 'git --help'.\n"
          ]
        }
      ]
    }
  ]
}